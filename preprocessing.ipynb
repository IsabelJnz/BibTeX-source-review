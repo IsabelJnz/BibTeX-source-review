{
 "cells": [
  {
   "cell_type": "code",
   "execution_count": 24,
   "metadata": {},
   "outputs": [],
   "source": [
    "def subsequent_processing(a):\n",
    "    sca=a.split('@')\n",
    "\n",
    "    src=[]\n",
    "\n",
    "    for x in range(0,len(sca)-1):\n",
    "        tmp=sca[x]\n",
    "        src.append(f'@{tmp}')\n",
    "    \n",
    "    return(src)"
   ]
  },
  {
   "cell_type": "code",
   "execution_count": 25,
   "metadata": {},
   "outputs": [],
   "source": [
    "#get warings for violating the rules\n",
    "def check_book_format(sources):\n",
    "  sources_final=[]\n",
    "\n",
    "  for x in range(0,len(sources)-1):\n",
    "    tmp=sources[x]\n",
    "\n",
    "    strtmp=\"\".join(tmp)\n",
    "    strtmp=strtmp.lower()\n",
    "\n",
    "    i=strtmp.find('isbn')\n",
    "    #d=strtmp.find('doi')\n",
    "    \n",
    "    sources_final.append(tmp) \n",
    "\n",
    "    if i!=-1:\n",
    "      b=strtmp.find('@book')\n",
    "  \n",
    "      if b==-1:\n",
    "        del sources_final[-1]\n",
    "        sources_final.append(f'\\n{tmp} |----> WARNING! Expected: book format; Please check source format. ---- \\n')\n",
    "\n",
    "  return sources_final"
   ]
  },
  {
   "cell_type": "code",
   "execution_count": 26,
   "metadata": {},
   "outputs": [],
   "source": [
    "#get warings for violating the rules\n",
    "def check_article_format(sources):\n",
    "  sources_final=[]\n",
    "\n",
    "  for x in range(0,len(sources)-1):\n",
    "    tmp=sources[x]\n",
    "\n",
    "    strtmp=\"\".join(tmp)\n",
    "    strtmp=strtmp.lower()\n",
    "\n",
    "\n",
    "    j=strtmp.find('journal') \n",
    "    \n",
    "    sources_final.append(tmp) \n",
    "\n",
    "    if j!=-1: \n",
    "      a=strtmp.find('@article')\n",
    "      \n",
    "      if a==-1:\n",
    "        del sources_final[-1]\n",
    "        sources_final.append(f'\\n{tmp} |----> WARNING! Expected: article format; Please check source format. ---- \\n')\n",
    "\n",
    "  return sources_final"
   ]
  },
  {
   "cell_type": "code",
   "execution_count": 27,
   "metadata": {},
   "outputs": [],
   "source": [
    "#get warings for violating the rules\n",
    "def check_booklet_format(sources):\n",
    "  sources_final=[]\n",
    "\n",
    "  for x in range(0,len(sources)-1):\n",
    "    tmp=sources[x]\n",
    "\n",
    "    strtmp=\"\".join(tmp)\n",
    "    strtmp=strtmp.lower()\n",
    "\n",
    "    hp=strtmp.find('howpublished')\n",
    "    ad=strtmp.find('address')\n",
    "    \n",
    "    sources_final.append(tmp) \n",
    "\n",
    "    if hp!=-1 and ad!=-1:\n",
    "      bl=strtmp.find('@booklet') \n",
    "    \n",
    "      \n",
    "      if bl==-1:\n",
    "        del sources_final[-1]\n",
    "        sources_final.append(f'\\n{tmp} |----> WARNING! Expected: booklet format; Please check source format. ---- \\n')\n",
    "\n",
    "  return sources_final"
   ]
  },
  {
   "cell_type": "code",
   "execution_count": 28,
   "metadata": {},
   "outputs": [],
   "source": [
    "#get warings for violating the rules\n",
    "def check_inbook_format(sources):\n",
    "  sources_final=[]\n",
    "\n",
    "  for x in range(0,len(sources)-1):\n",
    "    tmp=sources[x]\n",
    "\n",
    "    strtmp=\"\".join(tmp)\n",
    "    strtmp=strtmp.lower()\n",
    "\n",
    "    ch=strtmp.find('chapter')\n",
    "    \n",
    "    sources_final.append(tmp) \n",
    "\n",
    "    if ch!=-1:\n",
    "      ib=strtmp.find('@inbook') \n",
    "      \n",
    "      if ib==-1:\n",
    "        del sources_final[-1]\n",
    "        sources_final.append(f'\\n{tmp} |----> WARNING! Expected: inbook format; Please check source format. ---- \\n')\n",
    "\n",
    "  return sources_final"
   ]
  },
  {
   "cell_type": "code",
   "execution_count": 29,
   "metadata": {},
   "outputs": [],
   "source": [
    "#get warings for violating the rules\n",
    "def check_incollection_format(sources):\n",
    "  sources_final=[]\n",
    "\n",
    "  for x in range(0,len(sources)-1):\n",
    "    tmp=sources[x]\n",
    "\n",
    "    strtmp=\"\".join(tmp)\n",
    "    strtmp=strtmp.lower()\n",
    "\n",
    "    bt=strtmp.find('booktitle')\n",
    "    \n",
    "    sources_final.append(tmp) \n",
    "\n",
    "    if bt!=-1:\n",
    "      ic=strtmp.find('@incollection') \n",
    "      \n",
    "      if ic==-1:\n",
    "        del sources_final[-1]\n",
    "        sources_final.append(f'\\n{tmp} |----> WARNING! Expected: incollection format; Please check source format. ---- \\n')\n",
    "\n",
    "  return sources_final"
   ]
  },
  {
   "cell_type": "code",
   "execution_count": 30,
   "metadata": {},
   "outputs": [],
   "source": [
    "#get warings for violating the rules\n",
    "def check_inproceedings_format(sources):\n",
    "  sources_final=[]\n",
    "\n",
    "  for x in range(0,len(sources)-1):\n",
    "    tmp=sources[x]\n",
    "\n",
    "    strtmp=\"\".join(tmp)\n",
    "    strtmp=strtmp.lower()\n",
    "\n",
    "    o=strtmp.find('organization')\n",
    "    ad=strtmp.find('address')\n",
    "\n",
    "    \n",
    "    sources_final.append(tmp) \n",
    "\n",
    "    if o!=-1 and ad!=-1:\n",
    "      ip=strtmp.find('@inproceedings') \n",
    "      \n",
    "      if ip==-1:\n",
    "        del sources_final[-1]\n",
    "        sources_final.append(f'\\n{tmp} |----> WARNING! Expected: inproceedings format; Please check source format. ---- \\n')\n",
    "\n",
    "  return sources_final"
   ]
  },
  {
   "cell_type": "code",
   "execution_count": 31,
   "metadata": {},
   "outputs": [],
   "source": [
    "#get warings for violating the rules\n",
    "def check_misc_format(sources):\n",
    "  sources_final=[]\n",
    "\n",
    "  for x in range(0,len(sources)-1):\n",
    "    tmp=sources[x]\n",
    "\n",
    "    strtmp=\"\".join(tmp)\n",
    "    strtmp=strtmp.lower()\n",
    "\n",
    "    hp=strtmp.find('howpublished')\n",
    "    \n",
    "    sources_final.append(tmp) \n",
    "\n",
    "    if hp!=-1:\n",
    "      m=strtmp.find('@misc') \n",
    "    \n",
    "      \n",
    "      if m==-1:\n",
    "        del sources_final[-1]\n",
    "        sources_final.append(f'\\n{tmp} |----> WARNING! Expected: misc format; Please check source format. ---- \\n')\n",
    "\n",
    "  return sources_final"
   ]
  },
  {
   "cell_type": "code",
   "execution_count": 32,
   "metadata": {},
   "outputs": [],
   "source": [
    "#get warings for violating the rules\n",
    "def check_phdthesis_format(sources):\n",
    "  sources_final=[]\n",
    "\n",
    "  for x in range(0,len(sources)-1):\n",
    "    tmp=sources[x]\n",
    "\n",
    "    strtmp=\"\".join(tmp)\n",
    "    strtmp=strtmp.lower()\n",
    "\n",
    "    s=strtmp.find('school')\n",
    "    \n",
    "    sources_final.append(tmp) \n",
    "\n",
    "    if s!=-1:\n",
    "      pt=strtmp.find('@phdthesis') \n",
    "    \n",
    "      \n",
    "      if pt==-1:\n",
    "        del sources_final[-1]\n",
    "        sources_final.append(f'\\n{tmp} |----> WARNING! Expected: phdthesis format; Please check source format. ---- \\n')\n",
    "\n",
    "  return sources_final"
   ]
  },
  {
   "cell_type": "code",
   "execution_count": 33,
   "metadata": {},
   "outputs": [],
   "source": [
    "#get warings for violating the rules\n",
    "def check_techreport_format(sources):\n",
    "  sources_final=[]\n",
    "\n",
    "  for x in range(0,len(sources)-1):\n",
    "    tmp=sources[x]\n",
    "\n",
    "    strtmp=\"\".join(tmp)\n",
    "    strtmp=strtmp.lower()\n",
    "\n",
    "    i=strtmp.find('institution')\n",
    "    \n",
    "    sources_final.append(tmp) \n",
    "\n",
    "    if i!=-1:\n",
    "      tr=strtmp.find('@techreport') \n",
    "    \n",
    "      \n",
    "      if tr==-1:\n",
    "        del sources_final[-1]\n",
    "        sources_final.append(f'\\n{tmp} |----> WARNING! Expected: techreport format; Please check source format. ---- \\n')\n",
    "\n",
    "  return sources_final"
   ]
  },
  {
   "cell_type": "code",
   "execution_count": 34,
   "metadata": {},
   "outputs": [],
   "source": [
    "path='bibtex.txt'\n",
    "d1 = open(path, 'r', encoding='utf-8').read()\n",
    "s1=subsequent_processing(d1)\n"
   ]
  },
  {
   "cell_type": "code",
   "execution_count": 35,
   "metadata": {},
   "outputs": [],
   "source": [
    "\n",
    "l2=check_book_format(s1)\n",
    "s2=\"\".join(l2)\n",
    "src2=subsequent_processing(s2)\n"
   ]
  },
  {
   "cell_type": "code",
   "execution_count": 36,
   "metadata": {},
   "outputs": [],
   "source": [
    "l3=check_article_format(src2)\n",
    "s3=\"\".join(l3)\n",
    "src3=subsequent_processing(s3)"
   ]
  },
  {
   "cell_type": "code",
   "execution_count": 37,
   "metadata": {},
   "outputs": [],
   "source": [
    "l4=check_booklet_format(src3)\n",
    "s4=\"\".join(l4)\n",
    "src4=subsequent_processing(s4)"
   ]
  },
  {
   "cell_type": "code",
   "execution_count": 38,
   "metadata": {},
   "outputs": [],
   "source": [
    "l5=check_inbook_format(src4)\n",
    "s5=\"\".join(l5)\n",
    "src5=subsequent_processing(s5)"
   ]
  },
  {
   "cell_type": "code",
   "execution_count": 39,
   "metadata": {},
   "outputs": [],
   "source": [
    "l6=check_incollection_format(src5)\n",
    "s6=\"\".join(l6)\n",
    "src6=subsequent_processing(s6)"
   ]
  },
  {
   "cell_type": "code",
   "execution_count": 40,
   "metadata": {},
   "outputs": [],
   "source": [
    "l7=check_inproceedings_format(src6)\n",
    "s7=\"\".join(l7)\n",
    "src7=subsequent_processing(s7)"
   ]
  },
  {
   "cell_type": "code",
   "execution_count": 41,
   "metadata": {},
   "outputs": [],
   "source": [
    "l8=check_misc_format(src7)\n",
    "s8=\"\".join(l8)\n",
    "src8=subsequent_processing(s8)"
   ]
  },
  {
   "cell_type": "code",
   "execution_count": 42,
   "metadata": {},
   "outputs": [],
   "source": [
    "l9=check_phdthesis_format(src8)\n",
    "s9=\"\".join(l9)\n",
    "src9=subsequent_processing(s9)"
   ]
  },
  {
   "cell_type": "code",
   "execution_count": 43,
   "metadata": {},
   "outputs": [],
   "source": [
    "l10=check_techreport_format(src9)\n"
   ]
  },
  {
   "cell_type": "code",
   "execution_count": 44,
   "metadata": {},
   "outputs": [],
   "source": [
    "d2 = open(\"preCheck.txt\", \"w+\", encoding='utf-8')\n",
    "L = \"\\n\".join(l10) \n",
    "d2.write(L)\n",
    "d2.close()"
   ]
  }
 ],
 "metadata": {
  "kernelspec": {
   "display_name": "Python 3.9.10 64-bit",
   "language": "python",
   "name": "python3"
  },
  "language_info": {
   "codemirror_mode": {
    "name": "ipython",
    "version": 3
   },
   "file_extension": ".py",
   "mimetype": "text/x-python",
   "name": "python",
   "nbconvert_exporter": "python",
   "pygments_lexer": "ipython3",
   "version": "3.9.10"
  },
  "orig_nbformat": 4,
  "vscode": {
   "interpreter": {
    "hash": "fe9a959b20c1a11f0379d800fd04c0320f2dff6d2d0003a40f8f375949ccb47d"
   }
  }
 },
 "nbformat": 4,
 "nbformat_minor": 2
}
